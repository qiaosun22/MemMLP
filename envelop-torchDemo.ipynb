{
 "cells": [
  {
   "cell_type": "code",
   "execution_count": 1,
   "metadata": {},
   "outputs": [
    {
     "data": {
      "application/javascript": "\nrequire(['notebook/js/codecell'], function(codecell) {\n  codecell.CodeCell.options_default.highlight_modes[\n      'magic_text/x-csrc'] = {'reg':[/^%%microblaze/]};\n  Jupyter.notebook.events.one('kernel_ready.Kernel', function(){\n      Jupyter.notebook.get_cells().map(function(cell){\n          if (cell.cell_type == 'code'){ cell.auto_highlight(); } }) ;\n  });\n});\n"
     },
     "metadata": {},
     "output_type": "display_data"
    },
    {
     "name": "stderr",
     "output_type": "stream",
     "text": [
      "/usr/local/python38/lib/python3.8/site-packages/torchvision/io/image.py:13: UserWarning: Failed to load image Python extension: \n",
      "  warn(f\"Failed to load image Python extension: {e}\")\n"
     ]
    }
   ],
   "source": [
    "import torch\n",
    "import numpy as np\n",
    "from matplotlib import pyplot as plt\n",
    "from c200_sdk.sdk_array_newsystem import SDKArray\n",
    "from C200_utils import data_quantization_sym\n",
    "from scipy import stats"
   ]
  },
  {
   "cell_type": "markdown",
   "metadata": {},
   "source": [
    "# 1. 创建cpu模型、加载权重并测试"
   ]
  },
  {
   "cell_type": "code",
   "execution_count": 2,
   "metadata": {},
   "outputs": [
    {
     "data": {
      "text/plain": [
       "0.9663"
      ]
     },
     "execution_count": 2,
     "metadata": {},
     "output_type": "execute_result"
    }
   ],
   "source": [
    "def mnist():\n",
    "    from torchvision import datasets, transforms\n",
    "    train_loader = torch.utils.data.DataLoader(\n",
    "        datasets.MNIST('data', train=True, download=True,\n",
    "                       transform=transforms.Compose([\n",
    "                           transforms.ToTensor(),\n",
    "                           transforms.Normalize((0.1307,), (0.3081,))\n",
    "                       ])),\n",
    "        batch_size=64, shuffle=True)\n",
    "    test_loader = torch.utils.data.DataLoader(\n",
    "        datasets.MNIST('data', train=False, transform=transforms.Compose([\n",
    "            transforms.ToTensor(),\n",
    "            transforms.Normalize((0.1307,), (0.3081,))\n",
    "        ])),\n",
    "        batch_size=1000, shuffle=True)\n",
    "    return train_loader, test_loader\n",
    "\n",
    "def test(net):\n",
    "    correct = 0\n",
    "    total = 0\n",
    "    net.eval()\n",
    "    with torch.no_grad():\n",
    "        for x, y in test_loader:\n",
    "            x = torch.nn.functional.max_pool2d(x, 2).reshape(x.shape[0], -1)#.cuda()\n",
    "            x[x < 1.] = 0.\n",
    "            x[x > 0.] = 1.\n",
    "            output = net(x)\n",
    "            y = y#.cuda()\n",
    "            _, predicted = torch.max(output, 1)\n",
    "            total += y.size(0)\n",
    "            correct += (predicted == y).sum().item()\n",
    "    return correct/total\n",
    "\n",
    "\n",
    "class MLP2(torch.nn.Module):\n",
    "    def __init__(self, p_1=0.5, p_2=0.5):\n",
    "        super(MLP2, self).__init__()\n",
    "        input_dim, output_dim, hidden_dim = 196, 10, 128\n",
    "        \n",
    "        self.fc1 = torch.nn.Linear(input_dim, hidden_dim, bias=False)\n",
    "        self.dropout_1 = torch.nn.Dropout(p_1)\n",
    "        self.fc2 = torch.nn.Linear(hidden_dim, output_dim, bias=False)\n",
    "        self.dropout_2 = torch.nn.Dropout(p_2)\n",
    "        # self.fc3 = torch.nn.Linear(hidden_dim, output_dim, bias=False)\n",
    "\n",
    "    def forward(self, x):\n",
    "        x = self.dropout_1(x)\n",
    "        x = torch.relu(self.fc1(x))\n",
    "        x = self.dropout_2(x)\n",
    "        x = torch.relu(self.fc2(x))\n",
    "        \n",
    "        # x = torch.relu(self.fc3(x))\n",
    "        return x\n",
    "\n",
    "net = MLP2(p_1=0.5, p_2=0.5)\n",
    "\n",
    "net.load_state_dict(torch.load('model_nobias_2lys.pth'))\n",
    "\n",
    "train_loader, test_loader = mnist()\n",
    "\n",
    "\n",
    "test(net)"
   ]
  },
  {
   "cell_type": "markdown",
   "metadata": {},
   "source": [
    "# 2. 确保 Memristor 上的 fidelity "
   ]
  },
  {
   "cell_type": "markdown",
   "metadata": {},
   "source": [
    "## 2.1 第一步：确保 calculate 原子操作的正确性"
   ]
  },
  {
   "cell_type": "code",
   "execution_count": 3,
   "metadata": {},
   "outputs": [
    {
     "name": "stdout",
     "output_type": "stream",
     "text": [
      "libBaseApi version:11\n",
      "初始化\n",
      "选片\n",
      "\n",
      "Time used: 0:00:00.933199\n",
      "(100, 128)\n",
      "[[1.         0.91595013]\n",
      " [0.91595013 1.        ]]\n"
     ]
    },
    {
     "data": {
      "image/png": "[encoded data removed]",
      "text/plain": [
       "<Figure size 640x480 with 1 Axes>"
      ]
     },
     "metadata": {},
     "output_type": "display_data"
    }
   ],
   "source": [
    "sdk = SDKArray(1)\n",
    "x_input = torch.randint(0, 2, [1, 100])\n",
    "weight_on_chip = [0, 0, 100, 128]\n",
    "weight = sdk.get_weight(weight_on_chip)\n",
    "y_cpu = x_input @ weight\n",
    "y_mem = sdk.calculate(x_input, addr=weight_on_chip, it_time=10).astype(np.float32) # 注意这里的y_mem是uint8，要立即转为int8，才能-8是不出错\n",
    "\n",
    "corr = np.corrcoef(y_cpu.numpy().reshape(1, -1)[0], y_mem.reshape(1, -1)[0])\n",
    "print(corr)\n",
    "plt.scatter(y_cpu.numpy().reshape(1, -1)[0], y_mem.reshape(1, -1)[0])\n",
    "plt.show()"
   ]
  },
  {
   "cell_type": "markdown",
   "metadata": {},
   "source": [
    "以上已经确保了线性映射是合意的，但是scale上相比input（横轴）有一个4-bit的量化。"
   ]
  },
  {
   "cell_type": "code",
   "execution_count": 4,
   "metadata": {},
   "outputs": [
    {
     "data": {
      "text/plain": [
       "(6.0, 14.0)"
      ]
     },
     "execution_count": 4,
     "metadata": {},
     "output_type": "execute_result"
    }
   ],
   "source": [
    "y_mem.min(), y_mem.max()"
   ]
  },
  {
   "cell_type": "markdown",
   "metadata": {},
   "source": [
    "### +8 / -8 问题"
   ]
  },
  {
   "cell_type": "code",
   "execution_count": 5,
   "metadata": {},
   "outputs": [
    {
     "name": "stdout",
     "output_type": "stream",
     "text": [
      "x:  [[1 1 1 1 1 1 1 1]]\n",
      "w:  [[-1  2  3 -4 -1 -5]\n",
      " [ 5 -1  3 -7  0  4]\n",
      " [ 5  2 -5 -3  2 -3]\n",
      " [-4 -3 -2  3 -7  5]\n",
      " [ 0 -5 -4  0  0  2]\n",
      " [-7 -6  1 -3 -7  0]\n",
      " [ 0  6 -5 -7  3  6]\n",
      " [-1 -2  5  4  6  4]]\n",
      "x @ w: \n",
      " [[ -3  -7  -4 -17  -4  13]]\n",
      "x @ (w+8)) - 8 * x.sum(): \n",
      " [[ -3  -7  -4 -17  -4  13]]\n"
     ]
    }
   ],
   "source": [
    "x = np.random.randint(0, 2, [1, 8])\n",
    "w = np.random.randint(-7, 7, [8, 6])\n",
    "print(\"x: \", x)\n",
    "print(\"w: \", w)\n",
    "print(\"x @ w: \\n\", x @ w)\n",
    "print(\"x @ (w+8)) - 8 * x.sum(): \\n\", x @ (w+8) - 8 * x.sum())"
   ]
  },
  {
   "cell_type": "markdown",
   "metadata": {},
   "source": [
    "故理论上总是可以通过 `(x @ (w+8)) - 8 * x.sum()` 映射来保持 scale"
   ]
  },
  {
   "cell_type": "code",
   "execution_count": 6,
   "metadata": {},
   "outputs": [
    {
     "data": {
      "text/plain": [
       "array([[-392., -387., -393., -394., -389., -391., -392., -387., -390.,\n",
       "        -390., -388., -389., -388., -387., -390., -391., -391., -391.,\n",
       "        -392., -387., -390., -391., -392., -389., -390., -389., -391.,\n",
       "        -389., -389., -390., -391., -387., -388., -388., -391., -393.,\n",
       "        -391., -388., -390., -391., -389., -389., -389., -389., -390.,\n",
       "        -387., -389., -387., -390., -391., -392., -389., -391., -391.,\n",
       "        -386., -392., -388., -391., -391., -387., -392., -389., -389.,\n",
       "        -392., -391., -390., -390., -390., -391., -390., -390., -390.,\n",
       "        -388., -388., -391., -390., -391., -388., -391., -391., -391.,\n",
       "        -388., -391., -389., -391., -390., -388., -390., -392., -387.,\n",
       "        -389., -388., -388., -389., -391., -388., -391., -389., -393.,\n",
       "        -391., -389., -390., -391., -389., -390., -390., -391., -392.,\n",
       "        -388., -393., -390., -389., -388., -390., -389., -390., -391.,\n",
       "        -392., -388., -389., -388., -392., -390., -388., -392., -391.,\n",
       "        -391., -391.]], dtype=float32)"
      ]
     },
     "execution_count": 6,
     "metadata": {},
     "output_type": "execute_result"
    }
   ],
   "source": [
    "y_mem - 8 * x_input.numpy().sum()"
   ]
  },
  {
   "cell_type": "markdown",
   "metadata": {},
   "source": [
    "然而，实际这么做发现还不对，因为`y_mem`总是先被`calculate`固定到了$[1, 14)$。因此只需要$-8$，道理就是在此。"
   ]
  },
  {
   "cell_type": "code",
   "execution_count": 7,
   "metadata": {},
   "outputs": [
    {
     "data": {
      "text/plain": [
       "array([[ 0.,  5., -1., -2.,  3.,  1.,  0.,  5.,  2.,  2.,  4.,  3.,  4.,\n",
       "         5.,  2.,  1.,  1.,  1.,  0.,  5.,  2.,  1.,  0.,  3.,  2.,  3.,\n",
       "         1.,  3.,  3.,  2.,  1.,  5.,  4.,  4.,  1., -1.,  1.,  4.,  2.,\n",
       "         1.,  3.,  3.,  3.,  3.,  2.,  5.,  3.,  5.,  2.,  1.,  0.,  3.,\n",
       "         1.,  1.,  6.,  0.,  4.,  1.,  1.,  5.,  0.,  3.,  3.,  0.,  1.,\n",
       "         2.,  2.,  2.,  1.,  2.,  2.,  2.,  4.,  4.,  1.,  2.,  1.,  4.,\n",
       "         1.,  1.,  1.,  4.,  1.,  3.,  1.,  2.,  4.,  2.,  0.,  5.,  3.,\n",
       "         4.,  4.,  3.,  1.,  4.,  1.,  3., -1.,  1.,  3.,  2.,  1.,  3.,\n",
       "         2.,  2.,  1.,  0.,  4., -1.,  2.,  3.,  4.,  2.,  3.,  2.,  1.,\n",
       "         0.,  4.,  3.,  4.,  0.,  2.,  4.,  0.,  1.,  1.,  1.]],\n",
       "      dtype=float32)"
      ]
     },
     "execution_count": 7,
     "metadata": {},
     "output_type": "execute_result"
    }
   ],
   "source": [
    "y_mem - 8 "
   ]
  },
  {
   "cell_type": "markdown",
   "metadata": {},
   "source": [
    "不过另一方面也为真正的矩阵乘矩阵提供了重要启发，我们可以通过统计输入的`.sum()`来把得到的结果放缩回去。"
   ]
  },
  {
   "cell_type": "code",
   "execution_count": 8,
   "metadata": {},
   "outputs": [
    {
     "data": {
      "text/plain": [
       "array([[   0.,  250.,  -50., -100.,  150.,   50.,    0.,  250.,  100.,\n",
       "         100.,  200.,  150.,  200.,  250.,  100.,   50.,   50.,   50.,\n",
       "           0.,  250.,  100.,   50.,    0.,  150.,  100.,  150.,   50.,\n",
       "         150.,  150.,  100.,   50.,  250.,  200.,  200.,   50.,  -50.,\n",
       "          50.,  200.,  100.,   50.,  150.,  150.,  150.,  150.,  100.,\n",
       "         250.,  150.,  250.,  100.,   50.,    0.,  150.,   50.,   50.,\n",
       "         300.,    0.,  200.,   50.,   50.,  250.,    0.,  150.,  150.,\n",
       "           0.,   50.,  100.,  100.,  100.,   50.,  100.,  100.,  100.,\n",
       "         200.,  200.,   50.,  100.,   50.,  200.,   50.,   50.,   50.,\n",
       "         200.,   50.,  150.,   50.,  100.,  200.,  100.,    0.,  250.,\n",
       "         150.,  200.,  200.,  150.,   50.,  200.,   50.,  150.,  -50.,\n",
       "          50.,  150.,  100.,   50.,  150.,  100.,  100.,   50.,    0.,\n",
       "         200.,  -50.,  100.,  150.,  200.,  100.,  150.,  100.,   50.,\n",
       "           0.,  200.,  150.,  200.,    0.,  100.,  200.,    0.,   50.,\n",
       "          50.,   50.]], dtype=float32)"
      ]
     },
     "execution_count": 8,
     "metadata": {},
     "output_type": "execute_result"
    }
   ],
   "source": [
    "(y_mem - 8) * x_input.numpy().sum()"
   ]
  },
  {
   "cell_type": "code",
   "execution_count": 9,
   "metadata": {},
   "outputs": [
    {
     "data": {
      "image/png": "[encoded data removed]",
      "text/plain": [
       "<Figure size 640x480 with 1 Axes>"
      ]
     },
     "metadata": {},
     "output_type": "display_data"
    }
   ],
   "source": [
    "plt.scatter(y_cpu, 8 * (y_mem + x_input.numpy().sum()))\n",
    "plt.show()"
   ]
  },
  {
   "cell_type": "code",
   "execution_count": 10,
   "metadata": {},
   "outputs": [
    {
     "name": "stderr",
     "output_type": "stream",
     "text": [
      "/usr/local/python38/lib/python3.8/site-packages/scipy/stats/_stats_mstats_common.py:195: RuntimeWarning: invalid value encountered in sqrt\n",
      "  t = r * np.sqrt(df / ((1.0 - r + TINY)*(1.0 + r + TINY)))\n",
      "/usr/local/python38/lib/python3.8/site-packages/scipy/stats/_stats_mstats_common.py:198: RuntimeWarning: invalid value encountered in sqrt\n",
      "  slope_stderr = np.sqrt((1 - r**2) * ssym / ssxm / df)\n"
     ]
    },
    {
     "data": {
      "text/plain": [
       "LinregressResult(slope=5.868713830164166, intercept=351.0021731427897, rvalue=0.9159501268452422, pvalue=nan, stderr=nan, intercept_stderr=nan)"
      ]
     },
     "execution_count": 10,
     "metadata": {},
     "output_type": "execute_result"
    }
   ],
   "source": [
    "# estimate slope and interception\n",
    "stats.linregress(y_mem, y_cpu)"
   ]
  },
  {
   "cell_type": "code",
   "execution_count": 11,
   "metadata": {},
   "outputs": [
    {
     "data": {
      "text/plain": [
       "LinregressResult(slope=1.143643611389853, intercept=11.632536387321295, rvalue=0.9159501268452422, pvalue=nan, stderr=nan, intercept_stderr=nan)"
      ]
     },
     "execution_count": 11,
     "metadata": {},
     "output_type": "execute_result"
    }
   ],
   "source": [
    "stats.linregress(y_cpu, 8 * (y_mem + x_input.numpy().sum()))"
   ]
  },
  {
   "cell_type": "markdown",
   "metadata": {},
   "source": [
    "至此，expanded 场景下的vmm已经具备了相当的fidelity。"
   ]
  },
  {
   "cell_type": "markdown",
   "metadata": {},
   "source": [
    "## 2.2 第二步：考虑权重量化并封装成矩阵乘矩阵的linear可用形式"
   ]
  },
  {
   "cell_type": "markdown",
   "metadata": {},
   "source": [
    "由于在量输入2-bit量化版本的实验中，输入量化是自然满足因而不必单独考虑的。只有权重量化 matters。\n",
    "\n",
    "考虑到ReRAM实际计算中的权重量化后必须以整数展示，因而一旦计算完成，我们希望立即进行一个还原映射来恢复其原数值scale。\n",
    "\n",
    "正式给出量化和反量化函数："
   ]
  },
  {
   "cell_type": "code",
   "execution_count": 12,
   "metadata": {},
   "outputs": [],
   "source": [
    "# Quantize input data\n",
    "def quant(data_float, scale=None, half_level=127):\n",
    "    if scale == None:\n",
    "        scale = abs(data_float).max()\n",
    "        if scale == 0:\n",
    "            return data_float, 0\n",
    "\n",
    "    data_quantized = (data_float / scale * half_level).round()\n",
    "    return data_quantized, scale\n",
    "\n",
    "def quant_reverse(vector_quant, scale, half_level=127):\n",
    "    vector_quant_reverse = vector_quant * scale / half_level\n",
    "    return vector_quant_reverse"
   ]
  },
  {
   "cell_type": "markdown",
   "metadata": {},
   "source": [
    "现在开始正式考虑权重量化问题，直接加载已经训练好的真实权重："
   ]
  },
  {
   "cell_type": "code",
   "execution_count": 13,
   "metadata": {},
   "outputs": [
    {
     "data": {
      "text/plain": [
       "tensor([[-0.0401,  0.0264,  0.0552,  ..., -0.3393, -0.0467,  0.0134],\n",
       "        [ 0.0340,  0.0532, -0.0206,  ...,  0.1552,  0.0644,  0.0067],\n",
       "        [-0.0177, -0.0214, -0.0304,  ..., -0.3164,  0.0388,  0.0237],\n",
       "        ...,\n",
       "        [-0.0594, -0.0557, -0.0624,  ...,  0.1052,  0.0585, -0.0488],\n",
       "        [ 0.0301, -0.0410, -0.0688,  ..., -0.1005, -0.0174, -0.0116],\n",
       "        [-0.0611, -0.0104, -0.0291,  ...,  0.1569, -0.0044,  0.0116]])"
      ]
     },
     "execution_count": 13,
     "metadata": {},
     "output_type": "execute_result"
    }
   ],
   "source": [
    "weight_pretrained = torch.load('model_nobias_2lys.pth')['fc1.weight']\n",
    "weight_pretrained"
   ]
  },
  {
   "cell_type": "markdown",
   "metadata": {},
   "source": [
    "对权重测试量化函数："
   ]
  },
  {
   "cell_type": "code",
   "execution_count": 14,
   "metadata": {},
   "outputs": [
    {
     "data": {
      "text/plain": [
       "(tensor([[-0.,  0.,  0.,  ..., -1., -0.,  0.],\n",
       "         [ 0.,  0., -0.,  ...,  1.,  0.,  0.],\n",
       "         [-0., -0., -0.,  ..., -1.,  0.,  0.],\n",
       "         ...,\n",
       "         [-0., -0., -0.,  ...,  0.,  0., -0.],\n",
       "         [ 0., -0., -0.,  ..., -0., -0., -0.],\n",
       "         [-0., -0., -0.,  ...,  1., -0.,  0.]]),\n",
       " tensor(1.7059))"
      ]
     },
     "execution_count": 14,
     "metadata": {},
     "output_type": "execute_result"
    }
   ],
   "source": [
    "weight_pretrained_quant, scale = quant(weight_pretrained, scale=None, half_level=7)\n",
    "weight_pretrained_quant, scale"
   ]
  },
  {
   "cell_type": "code",
   "execution_count": 15,
   "metadata": {},
   "outputs": [
    {
     "data": {
      "image/png": "[encoded data removed]",
      "text/plain": [
       "<Figure size 640x480 with 1 Axes>"
      ]
     },
     "metadata": {},
     "output_type": "display_data"
    }
   ],
   "source": [
    "plt.scatter(weight_pretrained, weight_pretrained_quant)\n",
    "plt.show()"
   ]
  },
  {
   "cell_type": "markdown",
   "metadata": {},
   "source": [
    "测试还原映射是否能恢复scale："
   ]
  },
  {
   "cell_type": "code",
   "execution_count": 16,
   "metadata": {},
   "outputs": [
    {
     "data": {
      "image/png": "[encoded data removed]",
      "text/plain": [
       "<Figure size 640x480 with 1 Axes>"
      ]
     },
     "metadata": {},
     "output_type": "display_data"
    },
    {
     "name": "stdout",
     "output_type": "stream",
     "text": [
      "[[1.         0.95820065]\n",
      " [0.95820065 1.        ]]\n"
     ]
    }
   ],
   "source": [
    "plt.scatter(weight_pretrained, quant_reverse(weight_pretrained_quant, scale, half_level=7))\n",
    "plt.show()\n",
    "print(np.corrcoef(weight_pretrained.numpy().reshape(1, -1)[0], quant_reverse(weight_pretrained_quant, scale, half_level=7).numpy().reshape(1, -1)[0]))"
   ]
  },
  {
   "cell_type": "markdown",
   "metadata": {},
   "source": [
    "可见权重方面已经保证了线性和scale两个方面。但是以上仅考虑了权重本身，实际的运算中，权重在scale变换后，要经过vvm才能被还原。实际上，由于\n",
    "\n",
    "$$\n",
    "\\mathbf{x}(c\\mathbf{W})=c~\\mathbf{xW},\n",
    "$$\n",
    "\n",
    "可以直接进行还原。\n",
    "根据以上认识，我们可以把上述权重实际刷入ReRAM来验证整个逻辑是否可以保证fidelity："
   ]
  },
  {
   "cell_type": "code",
   "execution_count": 17,
   "metadata": {},
   "outputs": [
    {
     "name": "stdout",
     "output_type": "stream",
     "text": [
      "(196, 128)\n",
      "(196, 128)\n",
      "cell_total_num:25088\n",
      "\n",
      "\n",
      "=======================================\n",
      "Cycle = 1\n",
      "=======================================\n",
      "Progress at 100.00 %\n",
      "Total time used: 0:00:34\n",
      "Mapping success rate: 25088 / 25088, 100.0000\n",
      "Operation success rate: 13839 / 13839, 100.0000\n",
      "\n",
      "\n",
      "=======================================\n",
      "Cycle = 2\n",
      "=======================================\n",
      "Progress at 100.00 %\n",
      "Total time used: 0:00:53\n",
      "Mapping success rate: 25088 / 25088, 100.0000\n",
      "Operation success rate: 10595 / 10595, 100.0000\n",
      "\n",
      "\n",
      "=======================================\n",
      "Cycle = 3\n",
      "=======================================\n",
      "Progress at 100.00 %\n",
      "Total time used: 0:01:08\n",
      "Mapping success rate: 25088 / 25088, 100.0000\n",
      "Operation success rate: 9244 / 9244, 100.0000\n",
      "\n",
      "\n",
      "=======================================\n",
      "Cycle = 4\n",
      "=======================================\n",
      "Progress at 100.00 %\n",
      "Total time used: 0:01:21\n",
      "Mapping success rate: 25088 / 25088, 100.0000\n",
      "Operation success rate: 8604 / 8604, 100.0000\n",
      "\n",
      "\n",
      "=======================================\n",
      "Cycle = 5\n",
      "=======================================\n",
      "Progress at 100.00 %\n",
      "Total time used: 0:01:33\n",
      "Mapping success rate: 25088 / 25088, 100.0000\n",
      "Operation success rate: 8251 / 8251, 100.0000\n"
     ]
    }
   ],
   "source": [
    "addr_fc1 = [0, 0, 196, 128]\n",
    "sdk.set_weight(weight=weight_pretrained_quant.T+8, addr=addr_fc1, verbose = 0, prog_cycle = 5)"
   ]
  },
  {
   "cell_type": "code",
   "execution_count": 18,
   "metadata": {},
   "outputs": [
    {
     "data": {
      "text/plain": [
       "array([[10, 11,  7,  5, 12, 10, 10, 10, 12, 13, 10, 11, 12, 11, 12,  9,\n",
       "         7,  8, 12, 14, 15, 11,  6, 11, 13, 10,  7,  9, 10,  9,  8, 10,\n",
       "        12, 11, 11,  8, 12,  8, 12,  8,  9, 12, 10,  8,  8,  7, 11, 11,\n",
       "        15, 14,  9,  9, 10, 10, 13,  8, 11, 11,  9, 10,  5, 11, 12,  6,\n",
       "        10, 13, 11,  4,  7,  9,  8, 10, 12,  7,  8, 10,  8,  7, 11, 11,\n",
       "        11, 13, 13, 11,  8, 10,  8,  9, 14,  9,  7, 11, 11,  9,  8, 12,\n",
       "         9,  9,  8,  6, 12,  8, 12,  5, 12,  9, 11,  8, 13,  9, 12, 11,\n",
       "        11, 13, 13,  7, 10,  9,  8, 10,  8,  7,  8, 13,  9, 11, 10, 13]],\n",
       "      dtype=uint8)"
      ]
     },
     "execution_count": 18,
     "metadata": {},
     "output_type": "execute_result"
    }
   ],
   "source": [
    "x_input = torch.randint(0, 2, [1, 196])\n",
    "sdk.calculate(x_input, addr=addr_fc1, it_time=10)"
   ]
  },
  {
   "cell_type": "code",
   "execution_count": 19,
   "metadata": {},
   "outputs": [
    {
     "data": {
      "image/png": "[encoded data removed]",
      "text/plain": [
       "<Figure size 640x480 with 1 Axes>"
      ]
     },
     "metadata": {},
     "output_type": "display_data"
    },
    {
     "name": "stdout",
     "output_type": "stream",
     "text": [
      "[[1.         0.90392274]\n",
      " [0.90392274 1.        ]]\n"
     ]
    },
    {
     "data": {
      "text/plain": [
       "LinregressResult(slope=0.9448203436681766, intercept=3.0547777135270078, rvalue=0.9039227407329817, pvalue=nan, stderr=nan, intercept_stderr=nan)"
      ]
     },
     "execution_count": 19,
     "metadata": {},
     "output_type": "execute_result"
    }
   ],
   "source": [
    "# REFER: stats.linregress(y_cpu, 8 * (y_mem + x_input.numpy().sum()))\n",
    "ouput_cpu = x_input.numpy() @ weight_pretrained.T.numpy()\n",
    "output_mem = quant_reverse(sdk.calculate(x_input.numpy(), addr=addr_fc1, it_time=10).astype(np.float32)-8, np.abs(ouput_cpu).max(), half_level=7)\n",
    "\n",
    "# output_mem, ouput_cpu\n",
    "plt.scatter(output_mem, ouput_cpu)\n",
    "plt.show()\n",
    "print(np.corrcoef(output_mem, ouput_cpu))\n",
    "stats.linregress(ouput_cpu, output_mem)"
   ]
  },
  {
   "cell_type": "code",
   "execution_count": 20,
   "metadata": {},
   "outputs": [
    {
     "data": {
      "image/png": "[encoded data removed]",
      "text/plain": [
       "<Figure size 640x480 with 1 Axes>"
      ]
     },
     "metadata": {},
     "output_type": "display_data"
    },
    {
     "name": "stdout",
     "output_type": "stream",
     "text": [
      "[[1.        0.9099478]\n",
      " [0.9099478 1.       ]]\n"
     ]
    },
    {
     "data": {
      "text/plain": [
       "LinregressResult(slope=0.17151243099886115, intercept=0.5551579969989283, rvalue=0.9099477999319261, pvalue=nan, stderr=nan, intercept_stderr=nan)"
      ]
     },
     "execution_count": 20,
     "metadata": {},
     "output_type": "execute_result"
    }
   ],
   "source": [
    "# REFER: stats.linregress(y_cpu, 8 * (y_mem + x_input.numpy().sum()))\n",
    "ouput_cpu = x_input.numpy() @ weight_pretrained.T.numpy()\n",
    "output_mem = quant_reverse(sdk.calculate(x_input.numpy(), addr=addr_fc1, it_time=10).astype(np.float32)-8, scale.numpy(), half_level=7)\n",
    "\n",
    "# output_mem, ouput_cpu\n",
    "plt.scatter(output_mem, ouput_cpu)\n",
    "plt.show()\n",
    "print(np.corrcoef(output_mem, ouput_cpu))\n",
    "stats.linregress(ouput_cpu, output_mem)"
   ]
  },
  {
   "cell_type": "markdown",
   "metadata": {},
   "source": []
  },
  {
   "cell_type": "code",
   "execution_count": 21,
   "metadata": {},
   "outputs": [
    {
     "data": {
      "text/plain": [
       "array([[ 2.75844,  5.51688, -1.37922, -4.13766,  5.51688,  2.75844,\n",
       "         2.75844,  1.37922,  4.13766,  6.8961 ,  2.75844,  4.13766,\n",
       "         5.51688,  5.51688,  5.51688,  2.75844,  0.     ,  0.     ,\n",
       "         4.13766,  8.27532,  8.27532,  2.75844, -2.75844,  2.75844,\n",
       "         6.8961 ,  2.75844, -1.37922,  2.75844,  4.13766,  2.75844,\n",
       "         0.     ,  4.13766,  6.8961 ,  4.13766,  4.13766,  0.     ,\n",
       "         4.13766, -1.37922,  4.13766,  0.     ,  1.37922,  5.51688,\n",
       "         4.13766,  1.37922,  1.37922, -1.37922,  5.51688,  4.13766,\n",
       "         9.65454,  8.27532,  0.     ,  0.     ,  2.75844,  1.37922,\n",
       "         5.51688,  0.     ,  2.75844,  4.13766,  1.37922,  2.75844,\n",
       "        -4.13766,  6.8961 ,  5.51688, -1.37922,  4.13766,  6.8961 ,\n",
       "         2.75844, -6.8961 , -2.75844,  0.     , -1.37922,  2.75844,\n",
       "         5.51688,  0.     ,  0.     ,  4.13766,  1.37922,  0.     ,\n",
       "         4.13766,  4.13766,  4.13766,  6.8961 ,  6.8961 ,  4.13766,\n",
       "         0.     ,  2.75844,  0.     ,  1.37922,  8.27532,  1.37922,\n",
       "         0.     ,  4.13766,  4.13766,  1.37922,  1.37922,  5.51688,\n",
       "         0.     ,  0.     ,  0.     , -2.75844,  5.51688,  0.     ,\n",
       "         6.8961 , -4.13766,  5.51688,  1.37922,  4.13766,  0.     ,\n",
       "         6.8961 ,  1.37922,  5.51688,  4.13766,  4.13766,  6.8961 ,\n",
       "         5.51688, -1.37922,  1.37922,  0.     ,  0.     ,  2.75844,\n",
       "         0.     ,  0.     ,  0.     ,  6.8961 ,  2.75844,  4.13766,\n",
       "         2.75844,  6.8961 ]], dtype=float32)"
      ]
     },
     "execution_count": 21,
     "metadata": {},
     "output_type": "execute_result"
    }
   ],
   "source": [
    "# Vector-Matrix Multiplication in a expanded scene\n",
    "def expanded_vmm(sdk, vector_input, weight, pos):\n",
    "    '''\n",
    "    input_vector: \n",
    "    - shape: should make sure reshaped correctly: .reshape(-1, 1)\n",
    "    - value: should also be quanted and expanded into (0, 1)\n",
    "    '''\n",
    "    weight_addr = [pos[0], pos[1], weight.shape[0], weight.shape[1]]\n",
    "    ouput_cpu = vector_input.numpy() @ weight.numpy()\n",
    "    output_mem = quant_reverse(sdk.calculate(vector_input.numpy(), addr=weight_addr, it_time=10).astype(np.float32)-8, np.abs(ouput_cpu).max(), half_level=7)\n",
    "\n",
    "    return output_mem\n",
    "\n",
    "\n",
    "expanded_vmm(sdk, x_input, weight_pretrained.T, pos=[0, 0])"
   ]
  },
  {
   "cell_type": "markdown",
   "metadata": {},
   "source": [
    "至此，得到了基本可用的expanded vvm。接下来开始使用这个函数来实现推理。先封装成可用的linear形式："
   ]
  },
  {
   "cell_type": "code",
   "execution_count": 22,
   "metadata": {},
   "outputs": [
    {
     "data": {
      "image/png": "[encoded data removed]",
      "text/plain": [
       "<Figure size 640x480 with 1 Axes>"
      ]
     },
     "metadata": {},
     "output_type": "display_data"
    },
    {
     "name": "stdout",
     "output_type": "stream",
     "text": [
      "[[1.        0.9099478]\n",
      " [0.9099478 1.       ]]\n"
     ]
    },
    {
     "data": {
      "text/plain": [
       "LinregressResult(slope=0.17151243099886115, intercept=0.5551579969989283, rvalue=0.9099477999319261, pvalue=nan, stderr=nan, intercept_stderr=nan)"
      ]
     },
     "execution_count": 22,
     "metadata": {},
     "output_type": "execute_result"
    }
   ],
   "source": [
    "plt.scatter(expanded_vmm(sdk, x_input, weight_pretrained.T, pos=[0, 0]), x_input.numpy() @ weight_pretrained.T.numpy())\n",
    "plt.show()\n",
    "print(np.corrcoef(output_mem, ouput_cpu))\n",
    "stats.linregress(ouput_cpu, output_mem)"
   ]
  },
  {
   "cell_type": "code",
   "execution_count": 23,
   "metadata": {},
   "outputs": [
    {
     "data": {
      "text/plain": [
       "torch.Size([12, 128])"
      ]
     },
     "execution_count": 23,
     "metadata": {},
     "output_type": "execute_result"
    }
   ],
   "source": [
    "sdk = SDKArray(1)\n",
    "\n",
    "x_input = torch.randint(0, 2, [12, 196])\n",
    "\n",
    "def linear(sdk, x_input, weight, pos=[0, 0]):\n",
    "    x_stack = []\n",
    "    x_direction = x_input.detach()#.cpu()#.numpy()\n",
    "\n",
    "    for i, l in enumerate(x_direction):\n",
    "        x_stack.append(\n",
    "            expanded_vmm(sdk, l.reshape(1, -1), weight, pos=pos).squeeze(0)\n",
    "        )\n",
    "\n",
    "    return torch.tensor(np.array(x_stack))\n",
    "\n",
    "linear(sdk, x_input, weight_pretrained.T).shape"
   ]
  },
  {
   "cell_type": "code",
   "execution_count": 24,
   "metadata": {},
   "outputs": [
    {
     "data": {
      "text/plain": [
       "(12, 128)"
      ]
     },
     "execution_count": 24,
     "metadata": {},
     "output_type": "execute_result"
    }
   ],
   "source": [
    "np.dot(x_input, weight_pretrained.T).shape"
   ]
  },
  {
   "cell_type": "code",
   "execution_count": 25,
   "metadata": {},
   "outputs": [
    {
     "data": {
      "image/png": "[encoded data removed]",
      "text/plain": [
       "<Figure size 640x480 with 1 Axes>"
      ]
     },
     "metadata": {},
     "output_type": "display_data"
    }
   ],
   "source": [
    "plt.scatter(linear(sdk, x_input, weight_pretrained.T).detach().numpy(), np.dot(x_input, weight_pretrained.T))\n",
    "plt.show()"
   ]
  },
  {
   "cell_type": "code",
   "execution_count": 26,
   "metadata": {},
   "outputs": [
    {
     "data": {
      "text/plain": [
       "LinregressResult(slope=0.8049462602181494, intercept=2.8089714362837404, rvalue=0.8566192726276107, pvalue=0.0, stderr=0.012378647126251382, intercept_stderr=0.0343415831765415)"
      ]
     },
     "execution_count": 26,
     "metadata": {},
     "output_type": "execute_result"
    }
   ],
   "source": [
    "stats.linregress(np.dot(x_input, weight_pretrained.T).reshape(1, -1)[0], linear(sdk, x_input, weight_pretrained.T).detach().numpy().reshape(1, -1)[0])"
   ]
  },
  {
   "cell_type": "markdown",
   "metadata": {},
   "source": [
    "# 3. ReRAM MLP 测试"
   ]
  },
  {
   "cell_type": "code",
   "execution_count": 27,
   "metadata": {},
   "outputs": [
    {
     "name": "stdout",
     "output_type": "stream",
     "text": [
      "(128, 10)\n",
      "(128, 10)\n",
      "cell_total_num:1280\n",
      "\n",
      "\n",
      "=======================================\n",
      "Cycle = 1\n",
      "=======================================\n",
      "Progress at 100.00 %\n",
      "Total time used: 0:00:01\n",
      "Mapping success rate: 1280 / 1280, 100.0000\n",
      "Operation success rate: 817 / 817, 100.0000\n",
      "\n",
      "\n",
      "=======================================\n",
      "Cycle = 2\n",
      "=======================================\n",
      "Progress at 100.00 %\n",
      "Total time used: 0:00:03\n",
      "Mapping success rate: 1280 / 1280, 100.0000\n",
      "Operation success rate: 574 / 574, 100.0000\n",
      "\n",
      "\n",
      "=======================================\n",
      "Cycle = 3\n",
      "=======================================\n",
      "Progress at 100.00 %\n",
      "Total time used: 0:00:03\n",
      "Mapping success rate: 1280 / 1280, 100.0000\n",
      "Operation success rate: 504 / 504, 100.0000\n",
      "\n",
      "\n",
      "=======================================\n",
      "Cycle = 4\n",
      "=======================================\n",
      "Progress at 100.00 %\n",
      "Total time used: 0:00:04\n",
      "Mapping success rate: 1280 / 1280, 100.0000\n",
      "Operation success rate: 486 / 486, 100.0000\n",
      "\n",
      "\n",
      "=======================================\n",
      "Cycle = 5\n",
      "=======================================\n",
      "Progress at 100.00 %\n",
      "Total time used: 0:00:05\n",
      "Mapping success rate: 1280 / 1280, 100.0000\n",
      "Operation success rate: 477 / 477, 100.0000\n"
     ]
    }
   ],
   "source": [
    "# def quant_and_set_weight():\n",
    "weight_pretrained = torch.load('model_nobias_2lys.pth')['fc2.weight']\n",
    "weight_pretrained_quant, scale = quant(weight_pretrained, scale=None, half_level=7)\n",
    "addr_fc2 = [196, 0, 128, 10]\n",
    "sdk.set_weight(weight=weight_pretrained_quant.T+8, addr=addr_fc2, verbose = 0, prog_cycle = 5)"
   ]
  },
  {
   "cell_type": "code",
   "execution_count": 28,
   "metadata": {},
   "outputs": [
    {
     "data": {
      "text/plain": [
       "0.3838"
      ]
     },
     "execution_count": 28,
     "metadata": {},
     "output_type": "execute_result"
    }
   ],
   "source": [
    "class MemMLP2(torch.nn.Module):\n",
    "    def __init__(self, p_1=0.5, p_2=0.5):\n",
    "        super(MemMLP2, self).__init__()\n",
    "        input_dim, output_dim, hidden_dim = 196, 10, 128\n",
    "        \n",
    "        self.fc1 = torch.nn.Linear(input_dim, hidden_dim, bias=False)\n",
    "        self.weight_1 = self.fc1.weight.detach().numpy()\n",
    "        self.dropout_1 = torch.nn.Dropout(p_1)\n",
    "        self.fc2 = torch.nn.Linear(hidden_dim, output_dim, bias=False)\n",
    "        self.weight_2 = self.fc2.weight.detach().numpy()\n",
    "        self.dropout_2 = torch.nn.Dropout(p_2)\n",
    "        # self.fc3 = torch.nn.Linear(hidden_dim, output_dim, bias=False)\n",
    "\n",
    "    def forward(self, x):\n",
    "        x = self.dropout_1(x)\n",
    "        x = self.linear(sdk, x, self.fc1.weight.T, pos=[0, 0])\n",
    "        x = torch.relu(x)\n",
    "        x = self.dropout_2(x)\n",
    "        x = self.linear(sdk, x, self.fc2.weight.T, pos=[196, 0])\n",
    "        x = torch.relu(x)\n",
    "        \n",
    "        # x = torch.relu(self.fc3(x))\n",
    "        return x\n",
    "\n",
    "    def linear(self, sdk, x_input, weight, pos=[0, 0]):\n",
    "        x_stack = []\n",
    "        x_direction = x_input.detach()#.cpu()#.numpy()\n",
    "\n",
    "        for i, l in enumerate(x_direction):\n",
    "            x_stack.append(\n",
    "                expanded_vmm(sdk, l.reshape(1, -1), weight, pos=pos).squeeze(0)\n",
    "            )\n",
    "\n",
    "        return torch.tensor(np.array(x_stack))\n",
    "    \n",
    "memnet = MemMLP2(p_1=0.5, p_2=0.5)\n",
    "memnet.load_state_dict(torch.load('model_nobias_2lys.pth'))\n",
    "\n",
    "test(memnet)"
   ]
  },
  {
   "cell_type": "markdown",
   "metadata": {},
   "source": []
  },
  {
   "cell_type": "code",
   "execution_count": 29,
   "metadata": {},
   "outputs": [],
   "source": [
    "memnet_bsl = MemMLP2(p_1=0.5, p_2=0.5)\n",
    "memnet_bsl.load_state_dict(torch.load('model_nobias_2lys-baseline.pth'))\n",
    "test(memnet_bsl)"
   ]
  },
  {
   "cell_type": "code",
   "execution_count": null,
   "metadata": {},
   "outputs": [],
   "source": []
  }
 ],
 "metadata": {
  "kernelspec": {
   "display_name": "forward",
   "language": "python",
   "name": "python3"
  },
  "language_info": {
   "codemirror_mode": {
    "name": "ipython",
    "version": 3
   },
   "file_extension": ".py",
   "mimetype": "text/x-python",
   "name": "python",
   "nbconvert_exporter": "python",
   "pygments_lexer": "ipython3",
   "version": "3.8.15"
  }
 },
 "nbformat": 4,
 "nbformat_minor": 2
}
